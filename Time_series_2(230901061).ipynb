{
  "nbformat": 4,
  "nbformat_minor": 0,
  "metadata": {
    "colab": {
      "provenance": []
    },
    "kernelspec": {
      "name": "python3",
      "display_name": "Python 3"
    },
    "language_info": {
      "name": "python"
    }
  },
  "cells": [
    {
      "cell_type": "code",
      "execution_count": 1,
      "metadata": {
        "colab": {
          "base_uri": "https://localhost:8080/"
        },
        "id": "QuAiYwqbV3BY",
        "outputId": "e0e851a7-9947-4e35-b6c8-818fc667bfc6"
      },
      "outputs": [
        {
          "output_type": "stream",
          "name": "stdout",
          "text": [
            "2025-04-11 05:35:42.633686\n"
          ]
        }
      ],
      "source": [
        "import datetime\n",
        "cd=datetime.datetime.now()\n",
        "print(cd)"
      ]
    },
    {
      "cell_type": "code",
      "source": [
        "res = cd.strftime(\"%y\")\n",
        "print(\"\\nTwo-digit year:\", res)"
      ],
      "metadata": {
        "colab": {
          "base_uri": "https://localhost:8080/"
        },
        "id": "-qKrcdF_WMyd",
        "outputId": "7d20f46f-aaa6-4d0e-dde9-ae84faadb2e1"
      },
      "execution_count": 3,
      "outputs": [
        {
          "output_type": "stream",
          "name": "stdout",
          "text": [
            "\n",
            "Two-digit year: 25\n"
          ]
        }
      ]
    },
    {
      "cell_type": "code",
      "source": [
        "res1 = cd.strftime(\"%Y\")\n",
        "print(\"\\nFour-digit year:\", res1)"
      ],
      "metadata": {
        "colab": {
          "base_uri": "https://localhost:8080/"
        },
        "id": "ruZuhtOgWM0_",
        "outputId": "c87985d1-4784-4b6c-8e65-8c4f0ff2a2fc"
      },
      "execution_count": 5,
      "outputs": [
        {
          "output_type": "stream",
          "name": "stdout",
          "text": [
            "\n",
            "Four-digit year: 2025\n"
          ]
        }
      ]
    },
    {
      "cell_type": "code",
      "source": [
        "res = cd.strftime(\"%m\")\n",
        "print(\"\\nTwo-digit month [01, 12]:\", res)"
      ],
      "metadata": {
        "colab": {
          "base_uri": "https://localhost:8080/"
        },
        "id": "s-4FUYmJWM3m",
        "outputId": "6c1d8957-7b4a-4bcd-e856-58194d0a8a6a"
      },
      "execution_count": 7,
      "outputs": [
        {
          "output_type": "stream",
          "name": "stdout",
          "text": [
            "\n",
            "Two-digit month [01, 12]: 04\n"
          ]
        }
      ]
    },
    {
      "cell_type": "code",
      "source": [
        "res = cd.strftime(\"%b\")\n",
        "\n",
        "print(\"\\nShort version of month\", res)"
      ],
      "metadata": {
        "colab": {
          "base_uri": "https://localhost:8080/"
        },
        "id": "Zlnk03FWWM58",
        "outputId": "6a135b79-efee-4481-b1dc-c51487ebc34e"
      },
      "execution_count": 9,
      "outputs": [
        {
          "output_type": "stream",
          "name": "stdout",
          "text": [
            "\n",
            "Short version of month Apr\n"
          ]
        }
      ]
    },
    {
      "cell_type": "code",
      "source": [
        "res = cd.strftime(\"%B\")\n",
        "print(\"\\nFull name of month:\", res)"
      ],
      "metadata": {
        "colab": {
          "base_uri": "https://localhost:8080/"
        },
        "id": "Tl1eUSDGWM8C",
        "outputId": "8fa7ef46-e12b-4b77-e1b1-949db3c43c05"
      },
      "execution_count": 11,
      "outputs": [
        {
          "output_type": "stream",
          "name": "stdout",
          "text": [
            "\n",
            "Full name of month: April\n"
          ]
        }
      ]
    },
    {
      "cell_type": "code",
      "source": [
        "res=cd.strftime(\"%D\")\n",
        "print(\"\\nShortcut for %m/%d/%y (e.g., 04/18/12):\", res)"
      ],
      "metadata": {
        "colab": {
          "base_uri": "https://localhost:8080/"
        },
        "id": "6Y7GqoSxXA3_",
        "outputId": "0ccb5b57-8c73-4730-9cc4-e45f8b1e5787"
      },
      "execution_count": 17,
      "outputs": [
        {
          "output_type": "stream",
          "name": "stdout",
          "text": [
            "\n",
            "Shortcut for %m/%d/%y (e.g., 04/18/12): 04/11/25\n"
          ]
        }
      ]
    },
    {
      "cell_type": "code",
      "source": [
        "res = cd.strftime(\"%j\")\n",
        "print(\"\\nDays of the year:\", res)"
      ],
      "metadata": {
        "colab": {
          "base_uri": "https://localhost:8080/"
        },
        "id": "f-J-lNhkXA6V",
        "outputId": "b3161852-642b-45fe-81b7-f26cb53b7530"
      },
      "execution_count": 22,
      "outputs": [
        {
          "output_type": "stream",
          "name": "stdout",
          "text": [
            "\n",
            "Days of the year: 101\n"
          ]
        }
      ]
    },
    {
      "cell_type": "code",
      "source": [
        "res = cd.strftime(\"%d\")\n",
        "print(\"\\nTwo-digit day [01, 31]:\", res)"
      ],
      "metadata": {
        "colab": {
          "base_uri": "https://localhost:8080/"
        },
        "id": "MDBB7R-WXA88",
        "outputId": "041e2ae0-0cbe-4d5e-f867-99b6625d46c7"
      },
      "execution_count": 24,
      "outputs": [
        {
          "output_type": "stream",
          "name": "stdout",
          "text": [
            "\n",
            "Two-digit day [01, 31]: 11\n"
          ]
        }
      ]
    },
    {
      "cell_type": "code",
      "source": [
        "res = cd.strftime(\"%a\")\n",
        "print(\"\\nShort version of day\", res)"
      ],
      "metadata": {
        "colab": {
          "base_uri": "https://localhost:8080/"
        },
        "id": "BegQm4ygXA_C",
        "outputId": "4f42913b-74c4-4a36-d8f1-334556549294"
      },
      "execution_count": 26,
      "outputs": [
        {
          "output_type": "stream",
          "name": "stdout",
          "text": [
            "\n",
            "Short version of day Fri\n"
          ]
        }
      ]
    },
    {
      "cell_type": "code",
      "source": [
        "res = cd.strftime(\"A\")\n",
        "print(\"\\nFull name of a day:\", res)"
      ],
      "metadata": {
        "colab": {
          "base_uri": "https://localhost:8080/"
        },
        "id": "HgnWne-WXBBY",
        "outputId": "a46d9f12-2d24-4f8a-c9cf-4c2dd727bae6"
      },
      "execution_count": 28,
      "outputs": [
        {
          "output_type": "stream",
          "name": "stdout",
          "text": [
            "\n",
            "Full name of a day: A\n"
          ]
        }
      ]
    },
    {
      "cell_type": "code",
      "source": [
        "res = cd.strftime(\"%H\")\n",
        "print(\"\\nHour (24-hour clock) [00, 23]:\",res)"
      ],
      "metadata": {
        "colab": {
          "base_uri": "https://localhost:8080/",
          "height": 106
        },
        "id": "xBZl6VkLXBDt",
        "outputId": "d2e0feb0-82b9-4601-be1e-00c8d9699613"
      },
      "execution_count": 29,
      "outputs": [
        {
          "output_type": "error",
          "ename": "SyntaxError",
          "evalue": "invalid syntax (<ipython-input-29-2b016bd4ea25>, line 1)",
          "traceback": [
            "\u001b[0;36m  File \u001b[0;32m\"<ipython-input-29-2b016bd4ea25>\"\u001b[0;36m, line \u001b[0;32m1\u001b[0m\n\u001b[0;31m    res=cd.strftime(&quot;%H&quot;)\u001b[0m\n\u001b[0m                    ^\u001b[0m\n\u001b[0;31mSyntaxError\u001b[0m\u001b[0;31m:\u001b[0m invalid syntax\n"
          ]
        }
      ]
    },
    {
      "cell_type": "code",
      "source": [
        "res=cd.strftime(\"%I\")\n",
        "print(\"\\nHour (12-hour clock) [01, 12]\",res)"
      ],
      "metadata": {
        "colab": {
          "base_uri": "https://localhost:8080/"
        },
        "id": "OzNUlobRXBGD",
        "outputId": "ea0d3f90-e42c-417f-e19c-3a1a11b39b38"
      },
      "execution_count": 31,
      "outputs": [
        {
          "output_type": "stream",
          "name": "stdout",
          "text": [
            "\n",
            "Hour (12-hour clock) [01, 12] 05\n"
          ]
        }
      ]
    },
    {
      "cell_type": "code",
      "source": [
        "res = cd.strftime(\"%M\")\n",
        "print(\"\\nTwo-digit minute [00, 59]:\", res)"
      ],
      "metadata": {
        "colab": {
          "base_uri": "https://localhost:8080/"
        },
        "id": "rJC4ZRkmXB1P",
        "outputId": "e0010f60-31eb-4e93-f420-9b55dc03f63c"
      },
      "execution_count": 33,
      "outputs": [
        {
          "output_type": "stream",
          "name": "stdout",
          "text": [
            "\n",
            "Two-digit minute [00, 59]: 35\n"
          ]
        }
      ]
    },
    {
      "cell_type": "code",
      "source": [
        "res = cd.strftime(\"%S\")\n",
        "print(\"\\nSecond (00, 61] (seconds 60, 61 account for leap seconds):\", res)"
      ],
      "metadata": {
        "colab": {
          "base_uri": "https://localhost:8080/"
        },
        "id": "9SkYIb7KXB4E",
        "outputId": "6ac35c59-e2c8-4af9-dcf0-3e01b61a78e8"
      },
      "execution_count": 35,
      "outputs": [
        {
          "output_type": "stream",
          "name": "stdout",
          "text": [
            "\n",
            "Second (00, 61] (seconds 60, 61 account for leap seconds): 42\n"
          ]
        }
      ]
    },
    {
      "cell_type": "code",
      "source": [
        "res=cd.strftime(\"%F\")\n",
        "print(\"\\nShortcut for %Y-%m-%d (eg, 2012-4-18):\",res)"
      ],
      "metadata": {
        "colab": {
          "base_uri": "https://localhost:8080/"
        },
        "id": "dUal6tE6XB7M",
        "outputId": "e570ad3d-636d-431e-8532-cbc144298d72"
      },
      "execution_count": 37,
      "outputs": [
        {
          "output_type": "stream",
          "name": "stdout",
          "text": [
            "\n",
            "Shortcut for %Y-%m-%d (eg, 2012-4-18): 2025-04-11\n"
          ]
        }
      ]
    },
    {
      "cell_type": "code",
      "source": [
        "res=cd.strftime(\"%f\")\n",
        "print(\"\\nMicrosecond as an integer, zero-padded (from 000000 to 999999);\", res)"
      ],
      "metadata": {
        "colab": {
          "base_uri": "https://localhost:8080/"
        },
        "id": "PDnLJpZZYXD_",
        "outputId": "63fdd1db-d5a5-4100-a942-70e8ee9c4cba"
      },
      "execution_count": 39,
      "outputs": [
        {
          "output_type": "stream",
          "name": "stdout",
          "text": [
            "\n",
            "Microsecond as an integer, zero-padded (from 000000 to 999999); 633686\n"
          ]
        }
      ]
    },
    {
      "cell_type": "code",
      "source": [
        "res=cd.strftime(\"%x\")\n",
        "print(\"\\nLocale-appropriate formatted date (eg, in the United States, May 1, 2012 yields '05/01/2012)\", res)"
      ],
      "metadata": {
        "colab": {
          "base_uri": "https://localhost:8080/"
        },
        "id": "2WthYRv0YXKv",
        "outputId": "e0c0158f-b609-4678-842c-1a21b6e6ec94"
      },
      "execution_count": 41,
      "outputs": [
        {
          "output_type": "stream",
          "name": "stdout",
          "text": [
            "\n",
            "Locale-appropriate formatted date (eg, in the United States, May 1, 2012 yields '05/01/2012) 04/11/25\n"
          ]
        }
      ]
    },
    {
      "cell_type": "code",
      "source": [
        "res=cd.strftime(\"%X\")\n",
        "print(\"\\nLocale-appropriate time (e.g., '04:24:12 PM'):\",res)"
      ],
      "metadata": {
        "colab": {
          "base_uri": "https://localhost:8080/"
        },
        "id": "Hdn5Rw6VXB9y",
        "outputId": "3f68c9ba-549a-4919-83f8-00ad45845dbf"
      },
      "execution_count": 43,
      "outputs": [
        {
          "output_type": "stream",
          "name": "stdout",
          "text": [
            "\n",
            "Locale-appropriate time (e.g., '04:24:12 PM'): 05:35:42\n"
          ]
        }
      ]
    },
    {
      "cell_type": "code",
      "source": [],
      "metadata": {
        "id": "O7fqON09XCAZ"
      },
      "execution_count": null,
      "outputs": []
    },
    {
      "cell_type": "code",
      "source": [],
      "metadata": {
        "id": "5Ah5qyIXXCDQ"
      },
      "execution_count": null,
      "outputs": []
    },
    {
      "cell_type": "markdown",
      "source": [],
      "metadata": {
        "id": "zV22OTOoWNAt"
      }
    },
    {
      "cell_type": "markdown",
      "source": [],
      "metadata": {
        "id": "uz7yhttPWNCy"
      }
    },
    {
      "cell_type": "markdown",
      "source": [],
      "metadata": {
        "id": "ulKfoCg5WNFZ"
      }
    }
  ]
}