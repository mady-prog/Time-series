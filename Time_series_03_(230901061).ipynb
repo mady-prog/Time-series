{
  "nbformat": 4,
  "nbformat_minor": 0,
  "metadata": {
    "colab": {
      "provenance": []
    },
    "kernelspec": {
      "name": "python3",
      "display_name": "Python 3"
    },
    "language_info": {
      "name": "python"
    }
  },
  "cells": [
    {
      "cell_type": "code",
      "execution_count": 2,
      "metadata": {
        "colab": {
          "base_uri": "https://localhost:8080/"
        },
        "id": "1RblJlCHY36J",
        "outputId": "7f397352-176b-4986-8f65-38b911c68b19"
      },
      "outputs": [
        {
          "output_type": "stream",
          "name": "stdout",
          "text": [
            "Date Index \n",
            " 2011-01-02   -0.473106\n",
            "2011-01-05   -1.342399\n",
            "2011-01-07    1.129909\n",
            "2011-01-08    0.654203\n",
            "2011-01-10   -0.109923\n",
            "2011-01-12    0.703300\n",
            "dtype: float64\n"
          ]
        }
      ],
      "source": [
        "import pandas as pd\n",
        "import numpy as np\n",
        "from datetime import datetime\n",
        "\n",
        "#create a date variable that contains the dates\n",
        "dates = [datetime(2011, 1, 2),\n",
        "datetime(2011, 1, 5),\n",
        "datetime(2011, 1, 7),\n",
        "datetime(2011, 1, 8),\n",
        "datetime(2011, 1, 10),\n",
        "datetime(2011, 1, 12)]\n",
        "\n",
        "#with this date object, create a series\n",
        "ts = pd.Series(np.random.randn(6), index=dates)\n",
        "print(\"Date Index \\n\",ts)"
      ]
    },
    {
      "cell_type": "code",
      "source": [
        "print(\"\\nDate Index alone from the series: \\n\",ts.index)"
      ],
      "metadata": {
        "colab": {
          "base_uri": "https://localhost:8080/"
        },
        "id": "PkNA12DRY7am",
        "outputId": "3bd79360-a72c-4f0b-c1b5-2dbc981e6e50"
      },
      "execution_count": 4,
      "outputs": [
        {
          "output_type": "stream",
          "name": "stdout",
          "text": [
            "\n",
            "Date Index alone from the series: \n",
            " DatetimeIndex(['2011-01-02', '2011-01-05', '2011-01-07', '2011-01-08',\n",
            "               '2011-01-10', '2011-01-12'],\n",
            "              dtype='datetime64[ns]', freq=None)\n"
          ]
        }
      ]
    },
    {
      "cell_type": "code",
      "source": [
        "stamp=ts.index[2]\n",
        "print(\"\\nSecond index:\\n\", stamp)"
      ],
      "metadata": {
        "colab": {
          "base_uri": "https://localhost:8080/"
        },
        "id": "SI2NjlAgY7eM",
        "outputId": "01c48e9c-36bf-483b-fcbd-ac4cde400c8f"
      },
      "execution_count": 6,
      "outputs": [
        {
          "output_type": "stream",
          "name": "stdout",
          "text": [
            "\n",
            "Second index:\n",
            " 2011-01-07 00:00:00\n"
          ]
        }
      ]
    },
    {
      "cell_type": "code",
      "source": [
        "#play like a ball with long-times series\n",
        "longer_ts=pd.Series(np.random.randn(1000),\n",
        "index=pd.date_range(\"2000-01-01\",periods=1000))\n",
        "print(\"\\nDaterange up to 1000 days:\\n\",longer_ts)"
      ],
      "metadata": {
        "colab": {
          "base_uri": "https://localhost:8080/"
        },
        "id": "I0iVPNq5Y7h1",
        "outputId": "1030ebcc-f2ae-4e7f-8d27-b0ae10adbb49"
      },
      "execution_count": 8,
      "outputs": [
        {
          "output_type": "stream",
          "name": "stdout",
          "text": [
            "\n",
            "Daterange up to 1000 days:\n",
            " 2000-01-01   -0.504553\n",
            "2000-01-02   -1.963909\n",
            "2000-01-03    0.390597\n",
            "2000-01-04   -0.020129\n",
            "2000-01-05    1.413739\n",
            "                ...   \n",
            "2002-09-22   -0.208054\n",
            "2002-09-23   -0.480033\n",
            "2002-09-24    1.126293\n",
            "2002-09-25    0.672256\n",
            "2002-09-26    1.086159\n",
            "Freq: D, Length: 1000, dtype: float64\n"
          ]
        }
      ]
    },
    {
      "cell_type": "code",
      "source": [
        "print(\"\\nDate range-05 month 2001 year:\\n\", longer_ts[\"2001-05\"])"
      ],
      "metadata": {
        "colab": {
          "base_uri": "https://localhost:8080/"
        },
        "id": "QaYnlD9oY7k9",
        "outputId": "dddf8fa9-cb1b-4ff6-e1ba-86f4016f5094"
      },
      "execution_count": 10,
      "outputs": [
        {
          "output_type": "stream",
          "name": "stdout",
          "text": [
            "\n",
            "Date range-05 month 2001 year:\n",
            " 2001-05-01    0.724435\n",
            "2001-05-02    0.175239\n",
            "2001-05-03   -1.510243\n",
            "2001-05-04    0.897637\n",
            "2001-05-05   -0.460674\n",
            "2001-05-06   -1.050877\n",
            "2001-05-07   -0.482740\n",
            "2001-05-08   -2.576271\n",
            "2001-05-09    1.366483\n",
            "2001-05-10   -0.596178\n",
            "2001-05-11   -0.453240\n",
            "2001-05-12   -0.963586\n",
            "2001-05-13    0.396467\n",
            "2001-05-14    0.451077\n",
            "2001-05-15    1.226281\n",
            "2001-05-16    0.564782\n",
            "2001-05-17   -1.328339\n",
            "2001-05-18    0.192553\n",
            "2001-05-19   -0.943222\n",
            "2001-05-20    0.657970\n",
            "2001-05-21   -0.902350\n",
            "2001-05-22    1.530290\n",
            "2001-05-23    0.090815\n",
            "2001-05-24    1.850921\n",
            "2001-05-25   -1.086311\n",
            "2001-05-26   -0.955460\n",
            "2001-05-27   -1.831674\n",
            "2001-05-28    0.117967\n",
            "2001-05-29    0.200668\n",
            "2001-05-30   -0.013703\n",
            "2001-05-31    0.356750\n",
            "Freq: D, dtype: float64\n"
          ]
        }
      ]
    },
    {
      "cell_type": "code",
      "source": [
        "print(\"\\nDate range-first few dates in 2000 year:\\n\",longer_ts[\"2000\"].head())"
      ],
      "metadata": {
        "colab": {
          "base_uri": "https://localhost:8080/"
        },
        "id": "KhnzzqnDY7oF",
        "outputId": "bf6bb387-fb95-48b8-ad36-401e09f79d25"
      },
      "execution_count": 12,
      "outputs": [
        {
          "output_type": "stream",
          "name": "stdout",
          "text": [
            "\n",
            "Date range-first few dates in 2000 year:\n",
            " 2000-01-01   -0.504553\n",
            "2000-01-02   -1.963909\n",
            "2000-01-03    0.390597\n",
            "2000-01-04   -0.020129\n",
            "2000-01-05    1.413739\n",
            "Freq: D, dtype: float64\n"
          ]
        }
      ]
    },
    {
      "cell_type": "code",
      "source": [
        "print(\"\\nDate range-first 15 dates in 02 month 2001 year:\\n\",longer_ts[\"2000-02\"].head(15))"
      ],
      "metadata": {
        "colab": {
          "base_uri": "https://localhost:8080/"
        },
        "id": "zdHZUt6sY7sT",
        "outputId": "659393f6-1ab9-4e2b-b3c6-827f8c3d5807"
      },
      "execution_count": 14,
      "outputs": [
        {
          "output_type": "stream",
          "name": "stdout",
          "text": [
            "\n",
            "Date range-first 15 dates in 02 month 2001 year:\n",
            " 2000-02-01    0.953599\n",
            "2000-02-02   -2.312572\n",
            "2000-02-03    0.324332\n",
            "2000-02-04    1.455745\n",
            "2000-02-05    0.161812\n",
            "2000-02-06    0.563112\n",
            "2000-02-07   -0.057492\n",
            "2000-02-08    1.814325\n",
            "2000-02-09   -1.243540\n",
            "2000-02-10    1.289050\n",
            "2000-02-11   -0.222461\n",
            "2000-02-12   -1.570047\n",
            "2000-02-13    1.295047\n",
            "2000-02-14    0.923870\n",
            "2000-02-15    0.018591\n",
            "Freq: D, dtype: float64\n"
          ]
        }
      ]
    },
    {
      "cell_type": "code",
      "source": [
        "from datetime import datetime\n",
        "print(\"\\nDate range-rom 26-9-2001:\\n\",longer_ts[datetime(2000,9,26):])"
      ],
      "metadata": {
        "colab": {
          "base_uri": "https://localhost:8080/"
        },
        "id": "zulwEU7yZrjV",
        "outputId": "0f53220f-4e4a-4e36-dc47-1651da8ffd38"
      },
      "execution_count": 17,
      "outputs": [
        {
          "output_type": "stream",
          "name": "stdout",
          "text": [
            "\n",
            "Date range-rom 26-9-2001:\n",
            " 2000-09-26   -1.292433\n",
            "2000-09-27   -0.044502\n",
            "2000-09-28    1.029805\n",
            "2000-09-29    0.024217\n",
            "2000-09-30    2.758387\n",
            "                ...   \n",
            "2002-09-22   -0.208054\n",
            "2002-09-23   -0.480033\n",
            "2002-09-24    1.126293\n",
            "2002-09-25    0.672256\n",
            "2002-09-26    1.086159\n",
            "Freq: D, Length: 731, dtype: float64\n"
          ]
        }
      ]
    },
    {
      "cell_type": "code",
      "source": [],
      "metadata": {
        "id": "51HRz3K4Zrl5"
      },
      "execution_count": null,
      "outputs": []
    }
  ]
}