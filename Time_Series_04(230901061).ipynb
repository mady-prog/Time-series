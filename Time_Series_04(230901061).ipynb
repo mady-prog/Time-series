{
  "nbformat": 4,
  "nbformat_minor": 0,
  "metadata": {
    "colab": {
      "provenance": []
    },
    "kernelspec": {
      "name": "python3",
      "display_name": "Python 3"
    },
    "language_info": {
      "name": "python"
    }
  },
  "cells": [
    {
      "cell_type": "code",
      "execution_count": 2,
      "metadata": {
        "id": "fGeKJ4q-NgDy",
        "colab": {
          "base_uri": "https://localhost:8080/"
        },
        "outputId": "c7791341-8992-4f5e-a6ba-649399aa127e"
      },
      "outputs": [
        {
          "output_type": "stream",
          "name": "stdout",
          "text": [
            "Date range:\n",
            " DatetimeIndex(['2020-08-15', '2020-08-16', '2020-08-17', '2020-08-18',\n",
            "               '2020-08-19', '2020-08-20', '2020-08-21', '2020-08-22',\n",
            "               '2020-08-23', '2020-08-24', '2020-08-25', '2020-08-26',\n",
            "               '2020-08-27', '2020-08-28', '2020-08-29', '2020-08-30',\n",
            "               '2020-08-31', '2020-09-01'],\n",
            "              dtype='datetime64[ns]', freq='D')\n"
          ]
        }
      ],
      "source": [
        "import pandas as pd\n",
        "import numpy as np\n",
        "from datetime import datetime\n",
        "ran=pd.date_range(\"2020-08-15\",\"2020-09-01\")\n",
        "print(\"Date range:\\n\",ran)"
      ]
    },
    {
      "cell_type": "code",
      "source": [
        "ran=pd.date_range(\"2020-07-15\", periods=10)\n",
        "print(\"\\nDate range with periods and default day frequency:\\n\",ran)"
      ],
      "metadata": {
        "colab": {
          "base_uri": "https://localhost:8080/"
        },
        "id": "QE2d8LQwahqN",
        "outputId": "9b3bf88a-c0d2-4ebd-ac7f-ac30dc340921"
      },
      "execution_count": 4,
      "outputs": [
        {
          "output_type": "stream",
          "name": "stdout",
          "text": [
            "\n",
            "Date range with periods and default day frequency:\n",
            " DatetimeIndex(['2020-07-15', '2020-07-16', '2020-07-17', '2020-07-18',\n",
            "               '2020-07-19', '2020-07-20', '2020-07-21', '2020-07-22',\n",
            "               '2020-07-23', '2020-07-24'],\n",
            "              dtype='datetime64[ns]', freq='D')\n"
          ]
        }
      ]
    },
    {
      "cell_type": "code",
      "source": [
        "ran=pd.date_range(\"2020-07-15\", periods=10, freq='h')\n",
        "print(\"\\nDate range with periods and hour frequency:\\n\",ran)\n",
        "# <ipython-input-5-5758df9c1bab>:1: FutureWarning: 'H' is deprecated and will be removed in a\n",
        "# future version, please use 'h' instead.\n",
        "# ran=pd.date_range(\"2020-07-15\", periods=10, freq='h')\n",
        "# future version, please use 'h' instead.\n",
        "ran=pd.date_range(\"2020-07-15\", periods=10, freq='h')\n",
        "print(\"\\nDate range with periods and hour frequency:\\n\",ran)\n",
        "# <ipython-input-5-5758df9c1bab>:1: FutureWarning: 'H' is deprecated and will be removed in a\n",
        "# future version, please use 'h' instead.\n",
        "# ran=pd.date_range(\"2020-07-15\", periods=10, freq='h')\n",
        "# future version, please use 'h' instead.\n",
        "# ran=pd.date_range(\"2020-07-15\", periods=10, freq='H')\n",
        "# future version, please use 'h' instead.\n",
        "#ran=pd.date_range(\"2020-07-15\", periods=10, freq='H')"
      ],
      "metadata": {
        "colab": {
          "base_uri": "https://localhost:8080/"
        },
        "id": "zYTcGFObah10",
        "outputId": "69e798fb-f146-4149-fa7b-4901fd769010"
      },
      "execution_count": 11,
      "outputs": [
        {
          "output_type": "stream",
          "name": "stdout",
          "text": [
            "\n",
            "Date range with periods and hour frequency:\n",
            " DatetimeIndex(['2020-07-15 00:00:00', '2020-07-15 01:00:00',\n",
            "               '2020-07-15 02:00:00', '2020-07-15 03:00:00',\n",
            "               '2020-07-15 04:00:00', '2020-07-15 05:00:00',\n",
            "               '2020-07-15 06:00:00', '2020-07-15 07:00:00',\n",
            "               '2020-07-15 08:00:00', '2020-07-15 09:00:00'],\n",
            "              dtype='datetime64[ns]', freq='h')\n",
            "\n",
            "Date range with periods and hour frequency:\n",
            " DatetimeIndex(['2020-07-15 00:00:00', '2020-07-15 01:00:00',\n",
            "               '2020-07-15 02:00:00', '2020-07-15 03:00:00',\n",
            "               '2020-07-15 04:00:00', '2020-07-15 05:00:00',\n",
            "               '2020-07-15 06:00:00', '2020-07-15 07:00:00',\n",
            "               '2020-07-15 08:00:00', '2020-07-15 09:00:00'],\n",
            "              dtype='datetime64[ns]', freq='h')\n"
          ]
        }
      ]
    },
    {
      "cell_type": "code",
      "source": [
        "ran=pd.period_range(\"2020-10\", periods=10, freq=\"M\")\n",
        "print(\"\\nDate range with periods and month frequency:\\n\",ran)"
      ],
      "metadata": {
        "colab": {
          "base_uri": "https://localhost:8080/"
        },
        "id": "XUYKYJKNah5-",
        "outputId": "a5d45990-a4a2-48a8-8da9-f964d2b1df81"
      },
      "execution_count": 13,
      "outputs": [
        {
          "output_type": "stream",
          "name": "stdout",
          "text": [
            "\n",
            "Date range with periods and month frequency:\n",
            " PeriodIndex(['2020-10', '2020-11', '2020-12', '2021-01', '2021-02', '2021-03',\n",
            "             '2021-04', '2021-05', '2021-06', '2021-07'],\n",
            "            dtype='period[M]')\n"
          ]
        }
      ]
    },
    {
      "cell_type": "code",
      "source": [
        "ran=pd.timedelta_range(0, periods=8, freq=\"h\")\n",
        "print(\"\\nZero day with hour frequency periods:\\n\",ran)\n",
        "# <ipython-input-8-e528f2e6b9e5>:1: FutureWarning: 'H' is deprecated and will be removed in a\n",
        "ran=pd.timedelta_range(0, periods=8, freq=\"h\")\n",
        "print(\"\\nZero day with hour frequency periods:\\n\",ran)\n",
        "# <ipython-input-8-e528f2e6b9e5>:1: FutureWarning: 'H' is deprecated and will be removed in a\n",
        "# future version, please use 'h' instead.\n",
        "ran=pd.timedelta_range(0, periods=8, freq=\"h\")\n",
        "ran=pd.timedelta_range(0, periods=8, freq=\"H\")"
      ],
      "metadata": {
        "colab": {
          "base_uri": "https://localhost:8080/"
        },
        "id": "fY4LyeLeah9n",
        "outputId": "ebca226d-6b6f-477d-e9b3-e3405347b26a"
      },
      "execution_count": 16,
      "outputs": [
        {
          "output_type": "stream",
          "name": "stdout",
          "text": [
            "\n",
            "Zero day with hour frequency periods:\n",
            " TimedeltaIndex(['0 days 00:00:00', '0 days 01:00:00', '0 days 02:00:00',\n",
            "                '0 days 03:00:00', '0 days 04:00:00', '0 days 05:00:00',\n",
            "                '0 days 06:00:00', '0 days 07:00:00'],\n",
            "               dtype='timedelta64[ns]', freq='h')\n",
            "\n",
            "Zero day with hour frequency periods:\n",
            " TimedeltaIndex(['0 days 00:00:00', '0 days 01:00:00', '0 days 02:00:00',\n",
            "                '0 days 03:00:00', '0 days 04:00:00', '0 days 05:00:00',\n",
            "                '0 days 06:00:00', '0 days 07:00:00'],\n",
            "               dtype='timedelta64[ns]', freq='h')\n"
          ]
        },
        {
          "output_type": "stream",
          "name": "stderr",
          "text": [
            "<ipython-input-16-c842879c094f>:9: FutureWarning: 'H' is deprecated and will be removed in a future version, please use 'h' instead.\n",
            "  ran=pd.timedelta_range(0, periods=8, freq=\"H\")\n"
          ]
        }
      ]
    }
  ]
}